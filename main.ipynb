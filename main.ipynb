{
 "cells": [
  {
   "cell_type": "markdown",
   "id": "895c884b",
   "metadata": {},
   "source": [
    "Импорты"
   ]
  },
  {
   "cell_type": "code",
   "execution_count": 1,
   "id": "dfb934fc",
   "metadata": {},
   "outputs": [],
   "source": [
    "import os\n",
    "import numpy as np\n",
    "import matplotlib.pyplot as plt\n",
    "import cv2\n",
    "from imageio import imread\n",
    "from skimage.color import rgb2gray, label2rgb\n",
    "from skimage.filters import gaussian, try_all_threshold, threshold_otsu, sobel \n",
    "from skimage.segmentation import watershed\n",
    "from skimage.morphology import binary_opening, binary_closing, binary_erosion\n",
    "from skimage import measure\n",
    "from skimage.feature import canny\n",
    "from skimage.measure import regionprops, ransac, label as sk_measure_label, regionprops\n",
    "from scipy import ndimage as ndi"
   ]
  },
  {
   "cell_type": "markdown",
   "id": "ee7eeec6",
   "metadata": {},
   "source": [
    "Выделяем маску на изображении"
   ]
  },
  {
   "cell_type": "code",
   "execution_count": 2,
   "id": "3f71143a",
   "metadata": {},
   "outputs": [],
   "source": [
    "def get_mask_from_image(image):\n",
    "    gaussian_sigma = 1.5\n",
    "    \n",
    "    img_gray = rgb2gray(image)\n",
    "    img_gray_blur = gaussian(img_gray, sigma=gaussian_sigma, channel_axis=2)\n",
    "\n",
    "    thresh_img = threshold_otsu(img_gray_blur)\n",
    "    res_image = img_gray_blur <= thresh_img\n",
    "    res_image = binary_opening(res_image, footprint=np.ones((5, 5)))\n",
    "    mask = get_largest_component_in_center(res_image)\n",
    "    mask = ndi.binary_fill_holes(mask)\n",
    "    \n",
    "    canny_sigma = 0.6\n",
    "    canny_low_threshold = 0.4\n",
    "    canny_high_threshold = 0.5\n",
    "    binary_closing_footprint_width = 4\n",
    "    binary_closing_footprint = np.ones((binary_closing_footprint_width, binary_closing_footprint_width))\n",
    "\n",
    "    my_edge_map = binary_closing(\n",
    "        canny(\n",
    "            mask,\n",
    "            sigma=canny_sigma,\n",
    "            low_threshold=canny_low_threshold,\n",
    "            high_threshold=canny_high_threshold,\n",
    "        ),\n",
    "        footprint=binary_closing_footprint\n",
    "    )\n",
    "    correct_mask_borders_after_canny(my_edge_map)\n",
    "    my_edge_segmentation = ndi.binary_fill_holes(my_edge_map)\n",
    "    res_image = my_edge_segmentation\n",
    "\n",
    "#     canny_edge_map = binary_closing(canny(mask, sigma=1), footprint=np.ones((4, 4)))\n",
    "#     correct_mask_borders_after_canny(canny_edge_map)\n",
    "#     image_edge_segmentation = ndi.binary_fill_holes(canny_edge_map)    \n",
    "    return res_image\n",
    "\n",
    "def correct_mask_borders_after_canny(canny_result, border_width=3):\n",
    "    canny_result[:border_width,:] = 0\n",
    "    canny_result[:,:border_width] = 0\n",
    "    canny_result[-border_width:,:] = 0\n",
    "    canny_result[:,-border_width:] = 0\n",
    "\n",
    "def get_largest_component_in_center(mask):\n",
    "    labels = sk_measure_label(mask) \n",
    "    props = regionprops(labels)\n",
    "    center = (mask.shape[0] / 2, mask.shape[1] / 2)\n",
    "    dist = np.array([pow(center[0] - p.centroid[0], 2) + pow(center[1] - p.centroid[1], 2) for p in props])\n",
    "    mask_id = dist.argmin()\n",
    "    return (labels == (mask_id + 1))"
   ]
  },
  {
   "cell_type": "markdown",
   "id": "62c2dea2",
   "metadata": {},
   "source": [
    "Открываем изображения, достаём маску"
   ]
  },
  {
   "cell_type": "code",
   "execution_count": 3,
   "id": "334e0d9a",
   "metadata": {},
   "outputs": [
    {
     "data": {
      "text/plain": [
       "<matplotlib.image.AxesImage at 0x24c4fe7d670>"
      ]
     },
     "execution_count": 3,
     "metadata": {},
     "output_type": "execute_result"
    },
    {
     "data": {
      "image/png": "[encoded data removed]",
      "text/plain": [
       "<Figure size 720x432 with 1 Axes>"
      ]
     },
     "metadata": {
      "needs_background": "light"
     },
     "output_type": "display_data"
    },
    {
     "data": {
      "image/png": "[encoded data removed]",
      "text/plain": [
       "<Figure size 720x432 with 2 Axes>"
      ]
     },
     "metadata": {
      "needs_background": "light"
     },
     "output_type": "display_data"
    }
   ],
   "source": [
    "image_file = os.path.join(\"objects\", \"circle.jpg\")\n",
    "image = imread(image_file);\n",
    "mask = get_mask_from_image(image);\n",
    "\n",
    "v_mask = (mask * 255).astype(\"uint8\")\n",
    "result_image = cv2.bitwise_and(image, image, mask=v_mask)\n",
    "\n",
    "ig, ax = plt.subplots(1, 2, figsize=(10, 6))\n",
    "ax[0].imshow(mask)\n",
    "ax[1].imshow(result_image)\n"
   ]
  },
  {
   "cell_type": "code",
   "execution_count": null,
   "id": "a1c08617",
   "metadata": {},
   "outputs": [],
   "source": []
  }
 ],
 "metadata": {
  "kernelspec": {
   "display_name": "Python 3 (ipykernel)",
   "language": "python",
   "name": "python3"
  },
  "language_info": {
   "codemirror_mode": {
    "name": "ipython",
    "version": 3
   },
   "file_extension": ".py",
   "mimetype": "text/x-python",
   "name": "python",
   "nbconvert_exporter": "python",
   "pygments_lexer": "ipython3",
   "version": "3.9.12"
  }
 },
 "nbformat": 4,
 "nbformat_minor": 5
}
